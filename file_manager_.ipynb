{
 "cells": [
  {
   "cell_type": "code",
   "execution_count": 1,
   "id": "b900460f",
   "metadata": {},
   "outputs": [],
   "source": [
    "import os\n",
    "import shutil"
   ]
  },
  {
   "cell_type": "code",
   "execution_count": 2,
   "id": "ed24c964",
   "metadata": {},
   "outputs": [
    {
     "data": {
      "text/plain": [
       "'/Users/__artyom__/machine_learning'"
      ]
     },
     "execution_count": 2,
     "metadata": {},
     "output_type": "execute_result"
    }
   ],
   "source": [
    "current_directory = os.getcwd()\n",
    "current_directory"
   ]
  },
  {
   "cell_type": "code",
   "execution_count": 3,
   "id": "f7c6af6f",
   "metadata": {},
   "outputs": [],
   "source": [
    "def create_directory(directory_name):\n",
    "    try:\n",
    "        os.makedirs(directory_name)\n",
    "        print(f\"Директория {directory_name} успешно создана.\")\n",
    "    except FileExistsError:\n",
    "        print(f\"Директория {directory_name} уже существует.\")"
   ]
  },
  {
   "cell_type": "code",
   "execution_count": 4,
   "id": "2474932d",
   "metadata": {
    "scrolled": true
   },
   "outputs": [],
   "source": [
    "def delete_directory(directory_name):\n",
    "    try:\n",
    "        os.rmdir(directory_name)\n",
    "        print(f\"Директория {directory_name} успешно удалена.\")\n",
    "    except FileNotFoundError:\n",
    "        print(f\"Директория {directory_name} не существует.\")"
   ]
  },
  {
   "cell_type": "code",
   "execution_count": 5,
   "id": "6374204f",
   "metadata": {},
   "outputs": [],
   "source": [
    "def list_files():\n",
    "    files = os.listdir(current_directory)\n",
    "    for file in files:\n",
    "        print(file)"
   ]
  },
  {
   "cell_type": "code",
   "execution_count": 6,
   "id": "a6e76b3a",
   "metadata": {},
   "outputs": [],
   "source": [
    "def create_file(file_name):\n",
    "    with open(file_name, 'w') as file:\n",
    "        print(f\"Файл {file_name} успешно создан.\")"
   ]
  },
  {
   "cell_type": "code",
   "execution_count": 7,
   "id": "91c0cc3b",
   "metadata": {},
   "outputs": [],
   "source": [
    "def read_file(file_name):\n",
    "    try:\n",
    "        with open(file_name, 'r') as file:\n",
    "            content = file.read()\n",
    "            print(content)\n",
    "    except FileNotFoundError:\n",
    "        print(f\"Файл {file_name} не найден.\")"
   ]
  },
  {
   "cell_type": "code",
   "execution_count": 8,
   "id": "245eaf8a",
   "metadata": {},
   "outputs": [],
   "source": [
    "def write_file(file_name, content):\n",
    "    with open(file_name, 'w') as file:\n",
    "        file.write(content)\n",
    "    print(f\"Содержимое успешно записано в файл {file_name}.\")"
   ]
  },
  {
   "cell_type": "code",
   "execution_count": 9,
   "id": "4fa2217b",
   "metadata": {},
   "outputs": [],
   "source": [
    "def delete_file(file_name):\n",
    "    try:\n",
    "        os.remove(file_name)\n",
    "        print(f\"Файл {file_name} успешно удален.\")\n",
    "    except FileNotFoundError:\n",
    "        print(f\"Файл {file_name} не найден.\")"
   ]
  },
  {
   "cell_type": "code",
   "execution_count": 10,
   "id": "549e87a3",
   "metadata": {},
   "outputs": [],
   "source": [
    "def copy_file(source, destination):\n",
    "    shutil.copyfile(source, destination)\n",
    "    print(f\"Файл {source} успешно скопирован в {destination}.\")"
   ]
  },
  {
   "cell_type": "code",
   "execution_count": 12,
   "id": "8b80e1cc",
   "metadata": {},
   "outputs": [],
   "source": [
    "def move_file(source, destination):\n",
    "    shutil.move(source, destination)\n",
    "    print(f\"Файл {source} успешно перемещен в {destination}.\")"
   ]
  },
  {
   "cell_type": "code",
   "execution_count": 13,
   "id": "0f7ef070",
   "metadata": {},
   "outputs": [],
   "source": [
    "def rename_file(old_name, new_name):\n",
    "    os.rename(old_name, new_name)\n",
    "    print(f\"Файл {old_name} успешно переименован в {new_name}.\")\n",
    "    "
   ]
  },
  {
   "cell_type": "code",
   "execution_count": null,
   "id": "dd674de7",
   "metadata": {},
   "outputs": [
    {
     "name": "stdout",
     "output_type": "stream",
     "text": [
      "Введите команду (help для справки): create_file <text>\n",
      "Файл <text> успешно создан.\n",
      "Введите команду (help для справки): rename_file <text> <test>\n",
      "Файл <text> успешно переименован в <test>.\n",
      "Введите команду (help для справки): create_file <f> \n",
      "Файл <f> успешно создан.\n",
      "Введите команду (help для справки): rename_file <f> <l>\n",
      "Файл <f> успешно переименован в <l>.\n",
      "Введите команду (help для справки): create_file <loc>\n",
      "Файл <loc> успешно создан.\n",
      "Введите команду (help для справки): rename_file <loc> <g>\n",
      "Файл <loc> успешно переименован в <g>.\n"
     ]
    }
   ],
   "source": [
    "while True:\n",
    "    command = input(\"Введите команду (help для справки): \").split()\n",
    "    if command[0] == 'create_dir':\n",
    "        create_directory(command[1])\n",
    "\n",
    "    elif command[0] == 'delete_dir':\n",
    "        delete_directory(command[1])\n",
    "\n",
    "    elif command[0] == 'list_files':\n",
    "        list_files()\n",
    "\n",
    "    elif command[0] == 'create_file':\n",
    "        create_file(command[1])\n",
    "\n",
    "    elif command[0] == 'read_file':\n",
    "        read_file(command[1])\n",
    "\n",
    "    elif command[0] == 'write_file':\n",
    "        write_file(command[1], ' '.join(command[2:]))\n",
    "\n",
    "    elif command[0] == 'delete_file':\n",
    "        delete_file(command[1])\n",
    "\n",
    "    elif command[0] == 'copy_file':\n",
    "        copy_file(command[1], command[2])\n",
    "\n",
    "    elif command[0] == 'move_file':\n",
    "        move_file(command[1], command[2])\n",
    "\n",
    "    elif command[0] == 'rename_file':\n",
    "        rename_file(command[1], command[2])\n",
    "\n",
    "    elif command[0] == 'help':\n",
    "        print(\"Доступные команды:\")\n",
    "        print(\"create_dir <название_директории>\")\n",
    "        print(\"delete_dir <название_директории>\")\n",
    "        print(\"list_files\")\n",
    "        print(\"create_file <название_файла>\")\n",
    "        print(\"read_file <название_файла>\")\n",
    "        print(\"write_file <название_файла> <содержимое>\")\n",
    "        print(\"delete_file <название_файла>\")\n",
    "        print(\"copy_file <исходный_файл> <целевой_файл>\")\n",
    "        print(\"move_file <исходный_файл> <целевой_файл>\")\n",
    "        print(\"rename_file <старое_название> <новое_название>\")\n",
    "\n",
    "    elif command[0] == 'exit':\n",
    "        break\n",
    "\n",
    "    else:\n",
    "        print(\"Неверная команда. Введите 'help' для справки.\")"
   ]
  },
  {
   "cell_type": "code",
   "execution_count": null,
   "id": "01b31a04",
   "metadata": {},
   "outputs": [],
   "source": []
  }
 ],
 "metadata": {
  "kernelspec": {
   "display_name": "Python 3 (ipykernel)",
   "language": "python",
   "name": "python3"
  },
  "language_info": {
   "codemirror_mode": {
    "name": "ipython",
    "version": 3
   },
   "file_extension": ".py",
   "mimetype": "text/x-python",
   "name": "python",
   "nbconvert_exporter": "python",
   "pygments_lexer": "ipython3",
   "version": "3.10.9"
  }
 },
 "nbformat": 4,
 "nbformat_minor": 5
}
